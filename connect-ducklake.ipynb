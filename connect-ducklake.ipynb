{
 "cells": [
  {
   "cell_type": "code",
   "execution_count": 1,
   "id": "c86bea31-6405-43d7-83fe-78e4d1387bad",
   "metadata": {},
   "outputs": [],
   "source": [
    "import duckdb"
   ]
  },
  {
   "cell_type": "code",
   "execution_count": 2,
   "id": "21635f9b-8a7a-484f-a518-740a6f3650eb",
   "metadata": {},
   "outputs": [],
   "source": [
    "con = duckdb.connect()"
   ]
  },
  {
   "cell_type": "code",
   "execution_count": 4,
   "id": "460d6ceb-a0ad-4ec9-844a-ebdf58f0226a",
   "metadata": {},
   "outputs": [
    {
     "data": {
      "application/vnd.jupyter.widget-view+json": {
       "model_id": "30a24baf0135445fa1118c51b42d2052",
       "version_major": 2,
       "version_minor": 0
      },
      "text/plain": [
       "FloatProgress(value=0.0, layout=Layout(width='auto'), style=ProgressStyle(bar_color='black'))"
      ]
     },
     "metadata": {},
     "output_type": "display_data"
    },
    {
     "data": {
      "application/vnd.jupyter.widget-view+json": {
       "model_id": "5c05daed2d7d40dabeb7ce85d214389b",
       "version_major": 2,
       "version_minor": 0
      },
      "text/plain": [
       "FloatProgress(value=0.0, layout=Layout(width='auto'), style=ProgressStyle(bar_color='black'))"
      ]
     },
     "metadata": {},
     "output_type": "display_data"
    },
    {
     "data": {
      "text/plain": [
       "<duckdb.duckdb.DuckDBPyConnection at 0x7fa5101c69f0>"
      ]
     },
     "execution_count": 4,
     "metadata": {},
     "output_type": "execute_result"
    }
   ],
   "source": [
    "con.execute(\"INSTALL ducklake; INSTALL postgres;LOAD ducklake;LOAD postgres;\")"
   ]
  },
  {
   "cell_type": "code",
   "execution_count": 9,
   "id": "3e8b06a5-1791-4950-aecc-474c923b31e3",
   "metadata": {},
   "outputs": [
    {
     "data": {
      "text/plain": [
       "<duckdb.duckdb.DuckDBPyConnection at 0x7fa5101c69f0>"
      ]
     },
     "execution_count": 9,
     "metadata": {},
     "output_type": "execute_result"
    }
   ],
   "source": [
    "con.execute(\"CREATE OR REPLACE SECRET ( TYPE postgres, HOST 'postgres_ducklake', PORT 5432, DATABASE postgres, USER 'admin', PASSWORD 'password' );\")"
   ]
  },
  {
   "cell_type": "code",
   "execution_count": 10,
   "id": "7a4b2598-1cdd-471e-80dd-38a72858cddc",
   "metadata": {},
   "outputs": [
    {
     "data": {
      "text/plain": [
       "<duckdb.duckdb.DuckDBPyConnection at 0x7fa5101c69f0>"
      ]
     },
     "execution_count": 10,
     "metadata": {},
     "output_type": "execute_result"
    }
   ],
   "source": [
    "con.execute(\"CREATE OR REPLACE SECRET minio_local_secret ( TYPE s3, PROVIDER config, KEY_ID 'admin', SECRET 'password', REGION 'us-east-1', ENDPOINT 'minio_ducklake:9000', URL_STYLE 'path', USE_SSL false );\")"
   ]
  },
  {
   "cell_type": "code",
   "execution_count": 11,
   "id": "0a455afd-e4d6-4de8-9cc0-ba7d38cb3dc9",
   "metadata": {},
   "outputs": [
    {
     "data": {
      "text/plain": [
       "<duckdb.duckdb.DuckDBPyConnection at 0x7fa5101c69f0>"
      ]
     },
     "execution_count": 11,
     "metadata": {},
     "output_type": "execute_result"
    }
   ],
   "source": [
    "con.execute(\"ATTACH 'ducklake:postgres:dbname=postgres' AS ouzzka_ducklake(DATA_PATH 's3://ducklake/');\")"
   ]
  },
  {
   "cell_type": "code",
   "execution_count": null,
   "id": "70e29407-9a57-4b44-8cb2-56e7c5501ea4",
   "metadata": {},
   "outputs": [],
   "source": []
  }
 ],
 "metadata": {
  "kernelspec": {
   "display_name": "Python 3 (ipykernel)",
   "language": "python",
   "name": "python3"
  },
  "language_info": {
   "codemirror_mode": {
    "name": "ipython",
    "version": 3
   },
   "file_extension": ".py",
   "mimetype": "text/x-python",
   "name": "python",
   "nbconvert_exporter": "python",
   "pygments_lexer": "ipython3",
   "version": "3.11.6"
  }
 },
 "nbformat": 4,
 "nbformat_minor": 5
}
